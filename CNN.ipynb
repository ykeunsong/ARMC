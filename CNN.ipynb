{
 "cells": [
  {
   "cell_type": "code",
   "execution_count": 1,
   "metadata": {},
   "outputs": [
    {
     "name": "stderr",
     "output_type": "stream",
     "text": [
      "Using TensorFlow backend.\n"
     ]
    }
   ],
   "source": [
    "import tensorflow as tf\n",
    "import random, os, glob\n",
    "import numpy as np\n",
    "from PIL import Image\n",
    "from keras.utils import np_utils\n",
    "import pandas as pd\n",
    "\n",
    "from sklearn.model_selection import train_test_split\n",
    "\n",
    "tf.set_random_seed(42)  # reproducibility\n",
    "nb_classes = 2\n",
    "\n",
    "# load mnist image : 28 x 28\n",
    "\n",
    "learning_rate = 0.001\n",
    "training_epochs = 15\n",
    "batch_size = 128"
   ]
  },
  {
   "cell_type": "code",
   "execution_count": 2,
   "metadata": {},
   "outputs": [],
   "source": [
    "# total appx 1999\n",
    "MAL = 2667 \n",
    "# total appx 4000\n",
    "BEN = 5253\n",
    "\n",
    "TEST=1979"
   ]
  },
  {
   "cell_type": "code",
   "execution_count": 3,
   "metadata": {},
   "outputs": [],
   "source": [
    "b = glob.glob('../image/0-normal/*x.png')\n",
    "\n",
    "# benign : 4000\n",
    "X_data_normal = np.empty((BEN, 28, 28, 1), dtype = \"float32\")\n",
    "y_data_normal = np.empty((BEN,), dtype = \"uint8\")\n",
    "cnt = 0\n",
    "\n",
    "for i in b:\n",
    "    im = Image.open(i).convert(\"L\")\n",
    "    out = im.resize((28,28))\n",
    "    X_data_normal[cnt,:,:,0] = out\n",
    "    y_data_normal[cnt,] = 0 # normal\n",
    "    \n",
    "    cnt = cnt+1\n",
    "    if cnt == (BEN):\n",
    "        break\n",
    "\n",
    "\n",
    "m = glob.glob('../image/1-malware/*x.png')\n",
    "\n",
    "# malware : 1999\n",
    "X_data_malware = np.empty((MAL, 28, 28, 1), dtype = \"float32\")\n",
    "y_data_malware = np.empty((MAL,), dtype = \"uint8\")\n",
    "cnt = 0\n",
    "\n",
    "for i in m:\n",
    "    im = Image.open(i).convert(\"L\")\n",
    "    out = im.resize((28,28))\n",
    "    X_data_malware[cnt,:,:,0] = out\n",
    "    y_data_malware[cnt,] = 1 # malware\n",
    "    \n",
    "    cnt = cnt+1\n",
    "    if cnt == (MAL):\n",
    "        break\n",
    "\n",
    "t = glob.glob('../image/second/*x.png')\n",
    "\n",
    "injected_X_test = np.empty((TEST, 28, 28, 1), dtype = \"float32\")\n",
    "injected_y_test = np.empty((TEST,), dtype = \"uint8\")\n",
    "\n",
    "cnt = 0\n",
    "\n",
    "for i in t:\n",
    "    im = Image.open(i).convert(\"L\")\n",
    "    out = im.resize((28,28))\n",
    "\n",
    "    injected_X_test[cnt,:,:,0] = out\n",
    "    cnt = cnt+1\n",
    "    if cnt == (TEST):\n",
    "        break\n",
    "        \n",
    "X_train_benign, X_test_benign = train_test_split(X_data_normal,test_size=0.1)\n",
    "y_train_benign, y_test_benign = train_test_split(y_data_normal,test_size=0.1)\n",
    "X_train_malware, X_test_malware = train_test_split(X_data_malware,test_size=0.1)\n",
    "y_train_malware, y_test_malware = train_test_split(y_data_malware,test_size=0.1)"
   ]
  },
  {
   "cell_type": "code",
   "execution_count": 4,
   "metadata": {},
   "outputs": [
    {
     "name": "stdout",
     "output_type": "stream",
     "text": [
      "5253 2667\n"
     ]
    }
   ],
   "source": [
    "print(len(b),len(m))"
   ]
  },
  {
   "cell_type": "code",
   "execution_count": 5,
   "metadata": {},
   "outputs": [
    {
     "name": "stdout",
     "output_type": "stream",
     "text": [
      "(5253, 28, 28, 1) (5253,) (2667, 28, 28, 1) (2667,)\n"
     ]
    }
   ],
   "source": [
    "print(X_data_normal.shape,y_data_normal.shape,X_data_malware.shape,y_data_malware.shape)"
   ]
  },
  {
   "cell_type": "code",
   "execution_count": 6,
   "metadata": {},
   "outputs": [],
   "source": [
    "BEN_TRAIN=len(X_train_benign)\n",
    "BEN_TEST=len(X_test_benign)\n",
    "MAL_TRAIN=len(X_train_malware)\n",
    "MAL_TEST=len(X_test_malware)"
   ]
  },
  {
   "cell_type": "code",
   "execution_count": 7,
   "metadata": {},
   "outputs": [],
   "source": [
    "X_train = np.empty(((BEN_TRAIN+MAL_TRAIN), 28, 28, 1), dtype = \"float32\")\n",
    "y_train = np.empty(((BEN_TRAIN+MAL_TRAIN),), dtype = \"uint8\")\n",
    "X_test = np.empty(((BEN_TEST+MAL_TEST),  28, 28, 1), dtype = \"float32\")\n",
    "y_test = np.empty(((BEN_TEST+MAL_TEST),), dtype = \"uint8\")\n",
    "blind_X_test = np.empty((4600, 28, 28, 1), dtype = \"float32\")\n",
    "blind_y_test = np.empty((4600,), dtype = \"uint8\")\n",
    "\n",
    "#y_train_benign = np.zeros(BEN_TRAIN,)\n",
    "#y_test_benign = np.zeros(BEN_TEST,)\n",
    "\n",
    "X_train = np.concatenate((X_train_benign, X_train_malware), axis=0)\n",
    "y_train = np.append(y_train_benign, y_train_malware)\n",
    "X_test = np.concatenate((X_test_benign, X_test_malware), axis=0)\n",
    "y_test = np.append(y_test_benign, y_test_malware)"
   ]
  },
  {
   "cell_type": "code",
   "execution_count": 8,
   "metadata": {},
   "outputs": [],
   "source": [
    "X_train = X_train.astype(\"float32\")\n",
    "#X_train /= 255\n",
    "Y_train = np_utils.to_categorical(y_train, nb_classes)\n",
    "\n",
    "X_test = X_test.astype(\"float32\")\n",
    "#X_test /= 255\n",
    "Y_test = np_utils.to_categorical(y_test, nb_classes)"
   ]
  },
  {
   "cell_type": "code",
   "execution_count": 9,
   "metadata": {},
   "outputs": [],
   "source": [
    "from sklearn.utils import shuffle\n",
    "X_, Y_ = shuffle(X_train, Y_train)"
   ]
  },
  {
   "cell_type": "code",
   "execution_count": 10,
   "metadata": {},
   "outputs": [
    {
     "name": "stdout",
     "output_type": "stream",
     "text": [
      "X_train.shape() =  (7127, 28, 28, 1)\n",
      "Y_train.shape() =  (7127, 2)\n",
      "X_test.shape() =  (793, 28, 28, 1)\n",
      "WARNING:tensorflow:From <ipython-input-10-b91d17f5e760>:70: softmax_cross_entropy_with_logits (from tensorflow.python.ops.nn_ops) is deprecated and will be removed in a future version.\n",
      "Instructions for updating:\n",
      "\n",
      "Future major versions of TensorFlow will allow gradients to flow\n",
      "into the labels input on backprop by default.\n",
      "\n",
      "See `tf.nn.softmax_cross_entropy_with_logits_v2`.\n",
      "\n",
      "Learning started. It takes sometime.\n",
      "Epoch: 0001 cost = 0.751812149\n",
      "Accuracy: 0.6633039\n",
      "Epoch: 0002 cost = 0.679089736\n",
      "Accuracy: 0.7301387\n",
      "Epoch: 0003 cost = 0.597059816\n",
      "Accuracy: 0.7704918\n",
      "Epoch: 0004 cost = 0.537792108\n",
      "Accuracy: 0.776797\n",
      "Epoch: 0005 cost = 0.510845421\n",
      "Accuracy: 0.7805801\n",
      "Epoch: 0006 cost = 0.486261941\n",
      "Accuracy: 0.78310215\n",
      "Epoch: 0007 cost = 0.477885895\n",
      "Accuracy: 0.7931904\n",
      "Epoch: 0008 cost = 0.473332935\n",
      "Accuracy: 0.78814626\n",
      "Epoch: 0009 cost = 0.454025499\n",
      "Accuracy: 0.8020176\n",
      "Epoch: 0010 cost = 0.454107324\n",
      "Accuracy: 0.79192936\n",
      "Epoch: 0011 cost = 0.445462576\n",
      "Accuracy: 0.7944515\n",
      "Epoch: 0012 cost = 0.437227859\n",
      "Accuracy: 0.80580074\n",
      "Epoch: 0013 cost = 0.431000304\n",
      "Accuracy: 0.8032787\n",
      "Epoch: 0014 cost = 0.429433569\n",
      "Accuracy: 0.82471627\n",
      "Epoch: 0015 cost = 0.418881191\n",
      "Accuracy: 0.8196721\n",
      "Learning Finished!\n",
      "Accuracy: 0.8196721\n"
     ]
    }
   ],
   "source": [
    "tf.reset_default_graph()\n",
    "# hyper parameters\n",
    "print (\"X_train.shape() = \", X_train.shape)\n",
    "print (\"Y_train.shape() = \", Y_train.shape)\n",
    "print (\"X_test.shape() = \", X_test.shape)\n",
    "\n",
    "\n",
    "keep_prob = tf.placeholder(tf.float32)\n",
    "\n",
    "# input place holders\n",
    "X = tf.placeholder(tf.float32, [None, 28, 28 ,1])\n",
    "Y = tf.placeholder(tf.float32, [None, 2])  \n",
    "\n",
    "W1 = tf.Variable(tf.random_normal([3, 3, 1, 32], stddev=0.01))\n",
    "L1 = tf.nn.conv2d(X, W1, strides=[1, 1, 1, 1], padding='SAME')\n",
    "L1 = tf.nn.relu(L1)\n",
    "L1 = tf.nn.max_pool(L1, ksize=[1, 2, 2, 1], strides=[1, 2, 2, 1], padding='SAME')\n",
    "L1 = tf.nn.dropout(L1, keep_prob=keep_prob)\n",
    "# strides = [batch_size, x, y, channel ]\n",
    "# L1 ImgIn shape=(?, 28, 28, 1)\n",
    "# filter 3 x 3 x 1 => 32 filters\n",
    "# Conv     -> (?, 28, 28, 32)\n",
    "# Pool     -> (?, 14, 14, 32)\n",
    "\n",
    "W2 = tf.Variable(tf.random_normal([3, 3, 32, 64], stddev=0.01))\n",
    "L2 = tf.nn.conv2d(L1, W2, strides=[1, 1, 1, 1], padding='SAME')\n",
    "L2 = tf.nn.relu(L2)\n",
    "L2 = tf.nn.max_pool(L2, ksize=[1, 2, 2, 1], strides=[1, 2, 2, 1], padding='SAME')\n",
    "L2 = tf.nn.dropout(L2, keep_prob=keep_prob)\n",
    "# L2 ImgIn shape=(?, 14, 14, 32)\n",
    "#    Conv      ->(?, 14, 14, 64)\n",
    "#    Pool      ->(?, 7, 7, 64)\n",
    "\n",
    "# L3 ImgIn shape=(?, 7, 7, 64)\n",
    "W3 = tf.Variable(tf.random_normal([3, 3, 64, 128], stddev=0.01))\n",
    "#    Conv      ->(?, 7, 7, 128)\n",
    "#    Pool      ->(?, 4, 4, 128)\n",
    "#    Reshape   ->(?, 4 * 4 * 128) # Flatten them for FC\n",
    "L3 = tf.nn.conv2d(L2, W3, strides=[1, 1, 1, 1], padding='SAME')\n",
    "L3 = tf.nn.relu(L3)\n",
    "L3 = tf.nn.max_pool(L3, ksize=[1, 2, 2, 1], strides=[1, 2, 2, 1], padding='SAME')\n",
    "L3 = tf.nn.dropout(L3, keep_prob=keep_prob)\n",
    "L3_flat = tf.reshape(L3, [-1, 128 * 4 * 4])\n",
    "'''\n",
    "Tensor(\"Conv2D_2:0\", shape=(?, 7, 7, 128), dtype=float32)\n",
    "Tensor(\"Relu_2:0\", shape=(?, 7, 7, 128), dtype=float32)\n",
    "Tensor(\"MaxPool_2:0\", shape=(?, 4, 4, 128), dtype=float32)\n",
    "Tensor(\"dropout_2/mul:0\", shape=(?, 4, 4, 128), dtype=float32)\n",
    "Tensor(\"Reshape_1:0\", shape=(?, 2048), dtype=float32)\n",
    "'''\n",
    "\n",
    "# L4 FC 4x4x128 inputs -> 625 outputs\n",
    "W4 = tf.get_variable(\"W4\", shape=[128 * 4 * 4, 625], initializer=tf.contrib.layers.xavier_initializer())\n",
    "b4 = tf.Variable(tf.random_normal([625]))\n",
    "L4 = tf.nn.relu(tf.matmul(L3_flat, W4) + b4)\n",
    "L4 = tf.nn.dropout(L4, keep_prob=keep_prob)\n",
    "'''\n",
    "Tensor(\"Relu_3:0\", shape=(?, 625), dtype=float32)\n",
    "Tensor(\"dropout_3/mul:0\", shape=(?, 625), dtype=float32)\n",
    "'''\n",
    "\n",
    "# L5 Final FC 625 inputs -> 10 outputs\n",
    "W5 = tf.get_variable(\"W5\", shape=[625, 2], initializer=tf.contrib.layers.xavier_initializer())\n",
    "b5 = tf.Variable(tf.random_normal([2]))\n",
    "logits = tf.matmul(L4, W5) + b5\n",
    "'''\n",
    "Tensor(\"add_1:0\", shape=(?, 10), dtype=float32)\n",
    "'''\n",
    "# define cost/loss & optimizer\n",
    "cost = tf.reduce_mean(tf.nn.softmax_cross_entropy_with_logits(logits=logits, labels=Y))\n",
    "optimizer = tf.train.AdamOptimizer(learning_rate=learning_rate).minimize(cost)\n",
    "\n",
    "# initialize\n",
    "sess = tf.Session()\n",
    "sess.run(tf.global_variables_initializer())\n",
    "\n",
    "correct_prediction = tf.equal(tf.argmax(logits, 1), tf.argmax(Y, 1))\n",
    "accuracy = tf.reduce_mean(tf.cast(correct_prediction, tf.float32))\n",
    "    \n",
    "# train my model\n",
    "print('Learning started. It takes sometime.')\n",
    "for epoch in range(training_epochs):\n",
    "    avg_cost = 0\n",
    "    total_batch = int(len(Y_train) / batch_size)\n",
    "\n",
    "    for i in range(total_batch):\n",
    "\n",
    "        batch_xs = X_[i*batch_size:(i+1)*batch_size]\n",
    "        batch_ys = Y_[i*batch_size:(i+1)*batch_size]\n",
    "\n",
    "        feed_dict = {X: batch_xs, Y: batch_ys, keep_prob: 0.7}\n",
    "        c, _ = sess.run([cost, optimizer], feed_dict=feed_dict)\n",
    "        avg_cost += c / total_batch\n",
    "\n",
    "    print('Epoch:', '%04d' % (epoch + 1), 'cost =', '{:.9f}'.format(avg_cost))\n",
    "    print('Accuracy:', sess.run(accuracy, feed_dict={X: X_test, Y: Y_test, keep_prob: 1}))\n",
    "\n",
    "print('Learning Finished!')\n",
    "\n",
    "# Test model and check accuracy\n",
    "print('Accuracy:', sess.run(accuracy, feed_dict={X: X_test, Y: Y_test, keep_prob: 1}))"
   ]
  },
  {
   "cell_type": "code",
   "execution_count": 11,
   "metadata": {},
   "outputs": [
    {
     "name": "stdout",
     "output_type": "stream",
     "text": [
      "Accuracy: 0.8196721\n"
     ]
    }
   ],
   "source": [
    "print('Accuracy:', sess.run(accuracy, feed_dict={X: X_test, Y: Y_test, keep_prob: 1}))"
   ]
  },
  {
   "cell_type": "code",
   "execution_count": 12,
   "metadata": {},
   "outputs": [],
   "source": [
    "X_X_data_normal=X_data_normal.astype(\"float32\")\n",
    "y_pred=sess.run(logits, feed_dict={X: X_X_data_normal, keep_prob: 1})\n",
    "normallist=[]\n",
    "for i in b:\n",
    "    normallist.append(i.split('\\\\')[1].split('.')[0])\n",
    "pd.DataFrame(y_pred[:,:],index=normallist).to_csv('./extract-from-apk-master/out/normal_iamg.csv')"
   ]
  },
  {
   "cell_type": "code",
   "execution_count": 13,
   "metadata": {},
   "outputs": [],
   "source": [
    "X_X_data_malware=X_data_malware.astype(\"float32\")\n",
    "y_pred=sess.run(logits, feed_dict={X: X_X_data_malware, keep_prob: 1})\n",
    "malwarelist=[]\n",
    "for i in m:\n",
    "    malwarelist.append(i.split('\\\\')[1].split('.')[0])\n",
    "pd.DataFrame(y_pred[:,:],index=malwarelist).to_csv('./extract-from-apk-master/out/malware_iamg.csv')"
   ]
  },
  {
   "cell_type": "code",
   "execution_count": 14,
   "metadata": {},
   "outputs": [],
   "source": [
    "X_X_data_test=injected_X_test.astype(\"float32\")\n",
    "y_pred=sess.run(logits, feed_dict={X: X_X_data_test, keep_prob: 1})\n",
    "testlist=[]\n",
    "for i in t:\n",
    "    testlist.append(i.split('\\\\')[1].split('.')[0])\n",
    "pd.DataFrame(y_pred[:,:],index=testlist).to_csv('./extract-from-apk-master/out/test_iamg.csv')"
   ]
  }
 ],
 "metadata": {
  "kernelspec": {
   "display_name": "Python 3",
   "language": "python",
   "name": "python3"
  },
  "language_info": {
   "codemirror_mode": {
    "name": "ipython",
    "version": 3
   },
   "file_extension": ".py",
   "mimetype": "text/x-python",
   "name": "python",
   "nbconvert_exporter": "python",
   "pygments_lexer": "ipython3",
   "version": "3.6.7"
  }
 },
 "nbformat": 4,
 "nbformat_minor": 2
}
